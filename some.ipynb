{
 "metadata": {
  "language_info": {
   "codemirror_mode": {
    "name": "ipython",
    "version": 3
   },
   "file_extension": ".py",
   "mimetype": "text/x-python",
   "name": "python",
   "nbconvert_exporter": "python",
   "pygments_lexer": "ipython3",
   "version": "3.7.1-final"
  },
  "orig_nbformat": 2,
  "kernelspec": {
   "name": "Python 3.7.1 64-bit ('base': conda)",
   "display_name": "Python 3.7.1 64-bit ('base': conda)",
   "metadata": {
    "interpreter": {
     "hash": "8b2ca41938903ba235e1183b5bf26115e313308625d145985e29e18b36fc5288"
    }
   }
  }
 },
 "nbformat": 4,
 "nbformat_minor": 2,
 "cells": [
  {
   "cell_type": "code",
   "execution_count": 2,
   "metadata": {},
   "outputs": [],
   "source": [
    "import json\n",
    "\n",
    "with open('./data.json') as f:\n",
    "    data = json.load(f)"
   ]
  },
  {
   "cell_type": "code",
   "execution_count": 3,
   "metadata": {},
   "outputs": [
    {
     "output_type": "stream",
     "name": "stdout",
     "text": [
      "[{'x': '2017', 'y': 58}, {'x': '2008', 'y': 57}, {'x': '2009', 'y': 56}, {'x': '2010', 'y': 59}, {'x': '2011', 'y': 72}, {'x': '2012', 'y': 73}, {'x': '2013', 'y': 75}, {'x': '2014', 'y': 59}, {'x': '2015', 'y': 58}, {'x': '2016', 'y': 59}, {'x': None, 'y': 0}]\n"
     ]
    }
   ],
   "source": [
    "#number of matches played this season\n",
    "ans = {}\n",
    "for i in data:\n",
    "    if i.get(\"season\") not in ans:\n",
    "        ans[i.get(\"season\")] = 0\n",
    "    else:\n",
    "        ans[i.get(\"season\")] = ans[i.get(\"season\")] + 1\n",
    "x = list(ans.keys())\n",
    "y = list(ans.values())\n",
    "output = []\n",
    "for i in range(0,len(x)):\n",
    "    output.append({\n",
    "        \"x\":x[i],\n",
    "        \"y\":y[i]\n",
    "    })\n",
    "print(output)"
   ]
  },
  {
   "cell_type": "code",
   "execution_count": 4,
   "metadata": {},
   "outputs": [
    {
     "output_type": "stream",
     "name": "stdout",
     "text": [
      "[{'x': '\"Rajiv Gandhi International Stadium', 'y': 48}, {'x': 'Maharashtra Cricket Association Stadium', 'y': 14}, {'x': 'Saurashtra Cricket Association Stadium', 'y': 9}, {'x': 'Holkar Cricket Stadium', 'y': 4}, {'x': 'M Chinnaswamy Stadium', 'y': 65}, {'x': 'Wankhede Stadium', 'y': 56}, {'x': 'Eden Gardens', 'y': 60}, {'x': 'Feroz Shah Kotla', 'y': 59}, {'x': '\"Punjab Cricket Association IS Bindra Stadium', 'y': 10}, {'x': 'Green Park', 'y': 3}, {'x': '\"Punjab Cricket Association Stadium', 'y': 34}, {'x': 'Sawai Mansingh Stadium', 'y': 32}, {'x': '\"MA Chidambaram Stadium', 'y': 47}, {'x': 'Dr DY Patil Sports Academy', 'y': 16}, {'x': 'Newlands', 'y': 6}, {'x': \"St George's Park\", 'y': 6}, {'x': 'Kingsmead', 'y': 14}, {'x': 'SuperSport Park', 'y': 11}, {'x': 'Buffalo Park', 'y': 2}, {'x': 'New Wanderers Stadium', 'y': 7}, {'x': 'De Beers Diamond Oval', 'y': 2}, {'x': 'OUTsurance Oval', 'y': 1}, {'x': 'Brabourne Stadium', 'y': 10}, {'x': '\"Sardar Patel Stadium', 'y': 11}, {'x': 'Barabati Stadium', 'y': 6}, {'x': '\"Vidarbha Cricket Association Stadium', 'y': 2}, {'x': 'Himachal Pradesh Cricket Association Stadium', 'y': 8}, {'x': 'Nehru Stadium', 'y': 4}, {'x': 'Dr. Y.S. Rajasekhara Reddy ACA-VDCA Cricket Stadium', 'y': 10}, {'x': 'Subrata Roy Sahara Stadium', 'y': 16}, {'x': 'Shaheed Veer Narayan Singh International Stadium', 'y': 5}, {'x': 'JSCA International Stadium Complex', 'y': 6}, {'x': 'Sheikh Zayed Stadium', 'y': 6}, {'x': 'Sharjah Cricket Stadium', 'y': 5}, {'x': 'Dubai International Cricket Stadium', 'y': 6}, {'x': None, 'y': 0}]\n"
     ]
    }
   ],
   "source": [
    "#No of matches at each Venue\n",
    "ans = {}\n",
    "for i in data:\n",
    "    if i.get(\"venue\") not in ans:\n",
    "        ans[i.get(\"venue\")] = 0\n",
    "    else:\n",
    "        ans[i.get(\"venue\")] = ans[i.get(\"venue\")] + 1\n",
    "x = list(ans.keys())\n",
    "y = list(ans.values())\n",
    "output = []\n",
    "for i in range(0,len(x)):\n",
    "    output.append({\n",
    "        \"x\":x[i],\n",
    "        \"y\":y[i]\n",
    "    })\n",
    "print(output)\n"
   ]
  },
  {
   "cell_type": "code",
   "execution_count": 5,
   "metadata": {},
   "outputs": [
    {
     "output_type": "stream",
     "name": "stdout",
     "text": [
      "[{'x': 'Hyderabad', 'y': 48},\n {'x': 'Pune', 'y': 31},\n {'x': 'Rajkot', 'y': 9},\n {'x': 'Indore', 'y': 4},\n {'x': 'Bangalore', 'y': 65},\n {'x': 'Mumbai', 'y': 84},\n {'x': 'Kolkata', 'y': 60},\n {'x': 'Delhi', 'y': 59},\n {'x': 'Chandigarh', 'y': 45},\n {'x': 'Kanpur', 'y': 3},\n {'x': 'Jaipur', 'y': 32},\n {'x': 'Chennai', 'y': 47},\n {'x': 'Cape Town', 'y': 6},\n {'x': 'Port Elizabeth', 'y': 6},\n {'x': 'Durban', 'y': 14},\n {'x': 'Centurion', 'y': 11},\n {'x': 'East London', 'y': 2},\n {'x': 'Johannesburg', 'y': 7},\n {'x': 'Kimberley', 'y': 2},\n {'x': 'Bloemfontein', 'y': 1},\n {'x': 'Ahmedabad', 'y': 11},\n {'x': 'Cuttack', 'y': 6},\n {'x': 'Nagpur', 'y': 2},\n {'x': 'Dharamsala', 'y': 8},\n {'x': 'Kochi', 'y': 4},\n {'x': 'Visakhapatnam', 'y': 10},\n {'x': 'Raipur', 'y': 5},\n {'x': 'Ranchi', 'y': 6},\n {'x': 'Abu Dhabi', 'y': 6},\n {'x': 'Sharjah', 'y': 5},\n {'x': '', 'y': 6},\n {'x': None, 'y': 0}]\n"
     ]
    }
   ],
   "source": [
    "#No of matches Played at each city\n",
    "import pprint\n",
    "ans = {}\n",
    "for i in data:\n",
    "    if i.get(\"city\") not in ans:\n",
    "        ans[i.get(\"city\")] = 0\n",
    "    else:\n",
    "        ans[i.get(\"city\")] = ans[i.get(\"city\")] + 1\n",
    "x = list(ans.keys())\n",
    "y = list(ans.values())\n",
    "output = []\n",
    "for i in range(0,len(x)):\n",
    "    output.append({\n",
    "        \"x\":x[i],\n",
    "        \"y\":y[i]\n",
    "    })\n",
    "pprint.pprint(output)"
   ]
  },
  {
   "cell_type": "code",
   "execution_count": 6,
   "metadata": {},
   "outputs": [
    {
     "output_type": "stream",
     "name": "stdout",
     "text": [
      "[{'x': 'Sunrisers Hyderabad', 'y': 75},\n {'x': 'Royal Challengers Bangalore', 'y': 151},\n {'x': 'Mumbai Indians', 'y': 156},\n {'x': 'Rising Pune Supergiant', 'y': 15},\n {'x': 'Gujarat Lions', 'y': 29},\n {'x': 'Kolkata Knight Riders', 'y': 147},\n {'x': 'Kings XI Punjab', 'y': 147},\n {'x': 'Delhi Daredevils', 'y': 146},\n {'x': 'Chennai Super Kings', 'y': 130},\n {'x': 'Rajasthan Royals', 'y': 117},\n {'x': 'Deccan Chargers', 'y': 74},\n {'x': 'Kochi Tuskers Kerala', 'y': 13},\n {'x': 'Pune Warriors', 'y': 45},\n {'x': 'Rising Pune Supergiants', 'y': 13},\n {'x': None, 'y': 1}]\n"
     ]
    }
   ],
   "source": [
    "#No of matches played by each team\n",
    "x = {}\n",
    "for i in data:\n",
    "    if i.get(\"team1\") not in x:\n",
    "        x[i.get(\"team1\")] = 0\n",
    "    else:\n",
    "        x[i.get(\"team1\")] = x[i.get(\"team1\")] + 1\n",
    "    \n",
    "    if i.get(\"team2\") not in x:\n",
    "        x[i.get(\"team2\")] = 0\n",
    "    else:\n",
    "        x[i.get(\"team2\")] = x[i.get(\"team2\")] + 1\n",
    "\n",
    "\n",
    "a = list(x.keys())\n",
    "b = list(x.values())\n",
    "output = []\n",
    "for i in range(0,len(a)):\n",
    "    output.append({\n",
    "        \"x\":a[i],\n",
    "        \"y\":b[i]\n",
    "    })\n",
    "pprint.pprint(output)\n",
    "\n"
   ]
  },
  {
   "cell_type": "code",
   "execution_count": 7,
   "metadata": {},
   "outputs": [
    {
     "output_type": "stream",
     "name": "stdout",
     "text": [
      "[{'x': 'Sunrisers Hyderabad', 'y': 41},\n {'x': 'Rising Pune Supergiant', 'y': 9},\n {'x': 'Kolkata Knight Riders', 'y': 76},\n {'x': 'Kings XI Punjab', 'y': 69},\n {'x': 'Royal Challengers Bangalore', 'y': 72},\n {'x': 'Mumbai Indians', 'y': 91},\n {'x': 'Delhi Daredevils', 'y': 61},\n {'x': 'Gujarat Lions', 'y': 12},\n {'x': 'Chennai Super Kings', 'y': 78},\n {'x': 'Rajasthan Royals', 'y': 62},\n {'x': 'Deccan Chargers', 'y': 28},\n {'x': 'Pune Warriors', 'y': 11},\n {'x': 'Kochi Tuskers Kerala', 'y': 5},\n {'x': '', 'y': 2},\n {'x': 'Rising Pune Supergiants', 'y': 4},\n {'x': None, 'y': 0}]\n"
     ]
    }
   ],
   "source": [
    "#Number of wins per team\n",
    "ans = {}\n",
    "for i in data:\n",
    "    if i.get(\"winner\") not in ans:\n",
    "        ans[i.get(\"winner\")] = 0\n",
    "    else:\n",
    "        ans[i.get(\"winner\")] = ans[i.get(\"winner\")] + 1\n",
    "x = list(ans.keys())\n",
    "y = list(ans.values())\n",
    "output = []\n",
    "for i in range(0,len(x)):\n",
    "    output.append({\n",
    "        \"x\":x[i],\n",
    "        \"y\":y[i]\n",
    "    })\n",
    "pprint.pprint(output)\n"
   ]
  },
  {
   "cell_type": "code",
   "execution_count": 8,
   "metadata": {},
   "outputs": [
    {
     "output_type": "stream",
     "name": "stdout",
     "text": [
      "[{'x': 'field', 'y': 362}, {'x': 'bat', 'y': 272}, {'x': None, 'y': 0}]\n"
     ]
    }
   ],
   "source": [
    "#Number toss \n",
    "ans = {}\n",
    "for i in data:\n",
    "    if i.get(\"toss_decision\") not in ans:\n",
    "        ans[i.get(\"toss_decision\")] = 0\n",
    "    else:\n",
    "        ans[i.get(\"toss_decision\")] = ans[i.get(\"toss_decision\")] + 1\n",
    "x = list(ans.keys())\n",
    "y = list(ans.values())\n",
    "output = []\n",
    "for i in range(0,len(x)):\n",
    "    output.append({\n",
    "        \"x\":x[i],\n",
    "        \"y\":y[i]\n",
    "    })\n",
    "pprint.pprint(output)"
   ]
  },
  {
   "cell_type": "code",
   "execution_count": 9,
   "metadata": {},
   "outputs": [
    {
     "output_type": "stream",
     "name": "stdout",
     "text": [
      "{'field': 201}\n{'bat': 124}\n"
     ]
    }
   ],
   "source": [
    "\n",
    "ans = {\"field\":0}\n",
    "\n",
    "for i in data:\n",
    "    winner = i.get(\"toss_winner\")\n",
    "    des = \"field\"\n",
    "    if winner == i.get(\"winner\") and i.get(\"toss_decision\") == des :\n",
    "        ans[des] = ans[des] + 1\n",
    "\n",
    "print(ans)\n",
    "\n",
    "ans = {\"bat\":0}\n",
    "\n",
    "for i in data:\n",
    "    winner = i.get(\"toss_winner\")\n",
    "    des = \"bat\"\n",
    "    if winner == i.get(\"winner\") and i.get(\"toss_decision\") == des :\n",
    "        ans[des] = ans[des] + 1\n",
    "print(ans)\n",
    "# x = list(ans.keys())\n",
    "# y = list(ans.values())\n",
    "# output = []\n",
    "# for i in range(0,len(x)):\n",
    "#     output.append({\n",
    "#         \"x\":x[i],\n",
    "#         \"y\":y[i]\n",
    "#     })\n",
    "# pprint.pprint(output)\n",
    "\n",
    "\n"
   ]
  },
  {
   "cell_type": "code",
   "execution_count": 13,
   "metadata": {},
   "outputs": [
    {
     "output_type": "stream",
     "name": "stdout",
     "text": [
      "[{'x': 'CH Gayle', 'y': 17},\n {'x': 'SK Raina', 'y': 13},\n {'x': 'MS Dhoni', 'y': 12},\n {'x': 'G Gambhir', 'y': 12},\n {'x': 'DA Warner', 'y': 14},\n {'x': 'RG Sharma', 'y': 13},\n {'x': 'YK Pathan', 'y': 15},\n {'x': 'AB de Villiers', 'y': 14}]\n"
     ]
    }
   ],
   "source": [
    "ans = {}\n",
    "for i in data:\n",
    "    if i.get(\"player_of_match\") not in ans:\n",
    "        ans[i.get(\"player_of_match\")] = 0\n",
    "    else:\n",
    "        ans[i.get(\"player_of_match\")] = ans[i.get(\"player_of_match\")] + 1\n",
    "\n",
    "x = list(ans.keys())\n",
    "y = list(ans.values())\n",
    "output = []\n",
    "for i in range(0,len(x)):\n",
    "    output.append({\n",
    "        \"x\":x[i],\n",
    "        \"y\":y[i]\n",
    "    })\n",
    "\n",
    "final_out = []\n",
    "for i in output:\n",
    "    if i.get(\"y\") >= 12:\n",
    "        final_out.append(i)\n",
    "\n",
    "\n",
    "pprint.pprint(final_out)"
   ]
  },
  {
   "cell_type": "code",
   "execution_count": 50,
   "metadata": {
    "tags": []
   },
   "outputs": [
    {
     "output_type": "stream",
     "name": "stdout",
     "text": [
      "[{'label': 'Hyderabad', 'size': 3.4693877551020407, 'x': 49, 'y': 17},\n {'label': 'Pune', 'size': 5.9375, 'x': 32, 'y': 19},\n {'label': 'Rajkot', 'size': 4.0, 'x': 10, 'y': 4},\n {'label': 'Indore', 'size': 8.0, 'x': 5, 'y': 4},\n {'label': 'Bangalore', 'size': 5.454545454545454, 'x': 66, 'y': 36},\n {'label': 'Mumbai', 'size': 5.0588235294117645, 'x': 85, 'y': 43},\n {'label': 'Kolkata', 'size': 5.573770491803279, 'x': 61, 'y': 34},\n {'label': 'Delhi', 'size': 5.166666666666667, 'x': 60, 'y': 31},\n {'label': 'Chandigarh', 'size': 4.3478260869565215, 'x': 46, 'y': 20},\n {'label': 'Kanpur', 'size': 10.0, 'x': 4, 'y': 4},\n {'label': 'Jaipur', 'size': 4.545454545454545, 'x': 33, 'y': 15},\n {'label': 'Chennai', 'size': 5.208333333333334, 'x': 48, 'y': 25},\n {'label': 'Cape Town', 'size': 5.7142857142857135, 'x': 7, 'y': 4},\n {'label': 'Port Elizabeth', 'size': 4.285714285714286, 'x': 7, 'y': 3},\n {'label': 'Durban', 'size': 6.0, 'x': 15, 'y': 9},\n {'label': 'Centurion', 'size': 6.666666666666666, 'x': 12, 'y': 8},\n {'label': 'East London', 'size': 6.666666666666666, 'x': 3, 'y': 2},\n {'label': 'Johannesburg', 'size': 3.75, 'x': 8, 'y': 3},\n {'label': 'Kimberley', 'size': 6.666666666666666, 'x': 3, 'y': 2},\n {'label': 'Bloemfontein', 'size': 10.0, 'x': 2, 'y': 2},\n {'label': 'Ahmedabad', 'size': 5.0, 'x': 12, 'y': 6},\n {'label': 'Cuttack', 'size': 7.142857142857143, 'x': 7, 'y': 5},\n {'label': 'Nagpur', 'size': 3.333333333333333, 'x': 3, 'y': 1},\n {'label': 'Dharamsala', 'size': 5.555555555555555, 'x': 9, 'y': 5},\n {'label': 'Kochi', 'size': 4.0, 'x': 5, 'y': 2},\n {'label': 'Visakhapatnam', 'size': 3.6363636363636367, 'x': 11, 'y': 4},\n {'label': 'Raipur', 'size': 5.0, 'x': 6, 'y': 3},\n {'label': 'Ranchi', 'size': 5.7142857142857135, 'x': 7, 'y': 4},\n {'label': 'Abu Dhabi', 'size': 7.142857142857143, 'x': 7, 'y': 5},\n {'label': 'Sharjah', 'size': 3.333333333333333, 'x': 6, 'y': 2},\n {'label': '', 'size': 4.285714285714286, 'x': 7, 'y': 3},\n {'label': None, 'size': 10.0, 'x': 1, 'y': 1}]\n"
     ]
    }
   ],
   "source": [
    "#Location wise toss anaylsis\n",
    "#[\n",
    "#  {\n",
    "#    city:\"hyd\",\n",
    "#    total:66,\n",
    "#    wins:36\n",
    "#  }\n",
    "# ]\n",
    "\n",
    "ans = {}\n",
    "for i in data:\n",
    "    if i.get(\"city\") not in ans:\n",
    "        ans[i.get(\"city\")] = 0\n",
    "    else:\n",
    "        ans[i.get(\"city\")] = ans[i.get(\"city\")] + 1\n",
    "\n",
    "list_of_cities = list(ans.keys())\n",
    "\n",
    "\n",
    "\n",
    "# count = 0\n",
    "\n",
    "# for i in hyd:\n",
    "#     if i.get(\"toss_winner\") == i.get(\"winner\"):\n",
    "#         count = count + 1\n",
    "\n",
    "temp = []\n",
    "hyd = []\n",
    "\n",
    "for i in list_of_cities:\n",
    "    for j in data:\n",
    "        if i == j.get(\"city\"):\n",
    "\n",
    "            temp.append({\n",
    "                \"toss_winner\":j.get(\"toss_winner\"),\n",
    "                \"winner\":j.get(\"winner\")\n",
    "            })\n",
    "    hyd.append({\n",
    "        \"city\":i,\n",
    "        \"data\":temp\n",
    "    })\n",
    "    temp = []\n",
    "\n",
    "final = []\n",
    "\n",
    "\n",
    "c = 0\n",
    "for i in hyd:\n",
    "    for j in i.get(\"data\"):\n",
    "        if j.get(\"toss_winner\") == j.get(\"winner\"):\n",
    "            c = c + 1\n",
    "    final.append({\n",
    "        \"label\":i.get(\"city\"),\n",
    "        \"x\":len(i.get(\"data\")),\n",
    "        \"y\":c,\n",
    "        \"size\": (c/len(i.get(\"data\")))*10\n",
    "    })\n",
    "    c = 0\n",
    "pprint.pprint(final)\n",
    "\n"
   ]
  },
  {
   "cell_type": "code",
   "execution_count": null,
   "metadata": {},
   "outputs": [],
   "source": []
  }
 ]
}